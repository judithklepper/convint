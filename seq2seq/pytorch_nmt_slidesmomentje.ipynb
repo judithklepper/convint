{
 "cells": [
  {
   "cell_type": "markdown",
   "metadata": {
    "slideshow": {
     "slide_type": "slide"
    }
   },
   "source": [
    "# DEMO Neural Machine Translation for equations "
   ]
  },
  {
   "cell_type": "markdown",
   "metadata": {
    "slideshow": {
     "slide_type": "slide"
    }
   },
   "source": [
    "## Doel\n",
    "Het vertalen van een berekening in tekst naar een berekening in computer notatie (infix/prefix) kan worden bekeken als een sequence-to sequence probleem.\n",
    "\n",
    "\n",
    "   **Infix**:                x + y\n",
    "\n",
    "   **Prefix**:               + x y\n",
    "\n",
    "***\n",
    "\n",
    "   #### Simpele representatie \n",
    "**Voorbeeld:**\n",
    "\n",
    "    'Wat is één plus twee?'       -->      + 1 2\n",
    "***\n",
    "   #### Nested representatie\n",
    "**Voorbeeld:**\n",
    "   \n",
    "    'Wat is één plus twee keer drie?'      -->      * (+ 1 2) 3 \n",
    "\n",
    "\n",
    "\n"
   ]
  },
  {
   "cell_type": "markdown",
   "metadata": {
    "slideshow": {
     "slide_type": "slide"
    }
   },
   "source": [
    "### Use case\n",
    "                   \n",
    "Vertalen van opdracht in tekst naar computer interpreteerbare opdracht\n",
    "\n",
    "*Uiteindelijk bijv conversational interface /  surveilleren toekomst*\n",
    "\n",
    "\n",
    "\n",
    "Mogelijkheden voor gebruik als module in conversational interface"
   ]
  },
  {
   "cell_type": "markdown",
   "metadata": {
    "slideshow": {
     "slide_type": "slide"
    }
   },
   "source": [
    "# Inhoud vandaag\n",
    "1. Neural Machine Translation (NMT) - basis principes\n",
    "2.  Simpele use case\n",
    "3. Math Word Problems\n",
    "4. State-of-the-Art papers & resultaten\n",
    "5. Conclusie & generaliseerbaarheid"
   ]
  },
  {
   "cell_type": "markdown",
   "metadata": {
    "slideshow": {
     "slide_type": "slide"
    }
   },
   "source": [
    "# 1.  Neural Machine Translation (NMT) - Basis Principes\n",
    "\n",
    " - Sequence to sequence  (bijv eng -fra)\n",
    " - Deep Neural Networks\n",
    " \n",
    "![](img/hello-lead.png)\n",
    "\n",
    "***\n",
    "\n",
    "#### Seq2seq is vaak een Recurrent Neural Networl (RNN).\n",
    " - Informatie vasthouden over tijd\n",
    " - Input en output sequence moeten van verschillende lengte kunnen zin\n",
    " - LSTM (Long Short Term Memory) of GRU (Gated Recurrent Unit)) --> exploding/vanishing gradient\n",
    "\n",
    " \n",
    " \n",
    "\n"
   ]
  },
  {
   "cell_type": "markdown",
   "metadata": {
    "slideshow": {
     "slide_type": "slide"
    }
   },
   "source": [
    "#### Encoder - decoder\n",
    "- **Encoder**:  sequence --> vectors  \n",
    "    slaat betekenis van de input op in de 'internal state'. Geeft vector als input door aan decoder\n",
    "    \n",
    "- **Decoder**:  internal state --> output sequence\n",
    "    gebruikt internal state als startpunt om output sequence te genereren\n",
    "    \n",
    "    \n",
    "*Encoder & Decoder zijmn beide LSTM/GRU*   \n",
    "    \n",
    "    \n",
    "![](img/encoderdecoder.png)\n",
    "\n",
    "\n",
    "*** \n",
    "\n",
    "\n",
    "![](img/seq2seq.png)\n",
    "\n",
    "\n",
    "***\n"
   ]
  },
  {
   "cell_type": "markdown",
   "metadata": {
    "slideshow": {
     "slide_type": "slide"
    }
   },
   "source": [
    "\n",
    "#### Hoe gaat de prestatie van seq2seq omhoog?\n",
    "\n",
    "1. Parameter tuning\n",
    "2. Meer data\n",
    "3. **Attention**\n"
   ]
  },
  {
   "cell_type": "markdown",
   "metadata": {
    "slideshow": {
     "slide_type": "slide"
    }
   },
   "source": [
    "# 2. Use Case"
   ]
  },
  {
   "cell_type": "markdown",
   "metadata": {
    "slideshow": {
     "slide_type": "slide"
    }
   },
   "source": [
    "#### Data bestaat uit simpele en nested equations\n",
    "\n"
   ]
  },
  {
   "cell_type": "code",
   "execution_count": 15,
   "metadata": {
    "slideshow": {
     "slide_type": "slide"
    }
   },
   "outputs": [
    {
     "name": "stdout",
     "output_type": "stream",
     "text": [
      " minus five extracted by five?\n",
      "- (* 1 6) 7\tI want to calculate 1 times six minus seven?\n",
      "+ (- 1 8) 5\tI want to calculate 1 extracted by 8 plus 5?\n",
      "- (/ 8 5) 9\twhat is 8 divided by five - 9?\n",
      "/ (- 7 8) 1\tI would like to know what is 7 - 8 divided by 1?\n",
      "- (- 2 5) 5\tI would like to know what is 2 extracted by 5 minus 5?\n",
      "+ (+ 7 1) 9\tI want to calculate 7 added with 1 + 9?\n",
      "* (+ 7 8) 7\tHow many is 7 added with 8 multiplied by seven?\n",
      "- (* 7 7) 5\tI would like to know what is seven multiplied by 7 minus 5?\n",
      "+ (* 3 7) 8\tHow many is three * 7 added with eight?\n",
      "* (- 3 9) 8\tI want to calculate 3 extracted by nine times 8?\n",
      "- (/ 10 5) 3\tI would like to know what is 10 / five - three?\n",
      "- (/ 4 8) 4\tI would like to know what is 4 divided by 8 minus 4?\n",
      "/ (* 9 1) 7\twhat is 9 multiplied by one / 7?\n",
      "/ (/ 4 1) 8\tHow \n"
     ]
    }
   ],
   "source": [
    "# Take a quick view of the data.\n",
    "with open('data/prefix-equation611.txt') as f:\n",
    "    f.seek(10000)\n",
    "    print(f.read(800))"
   ]
  },
  {
   "cell_type": "markdown",
   "metadata": {
    "slideshow": {
     "slide_type": "slide"
    }
   },
   "source": [
    "#### Pre-processing bestaat uit:\n",
    "\n",
    "\n",
    "-  Speicifiek pre-processen voor dataset \n",
    "-  Vocabulary maken\n",
    "-  Maximale en minimale lengte sequence bepalen\n",
    "- \t< sos> < pad> < eos> < unk>\n",
    "                                                    \n",
    "\n",
    "\n",
    "Data bestaat vervolgens uit input sequence (som) en output sequence (prefix)<br>\n",
    "Sequence --> onehot-encoding vector <br>\n",
    "Batchify<br>\n",
    "Encoder - Decoder<br>\n",
    "\n",
    "\n"
   ]
  },
  {
   "cell_type": "markdown",
   "metadata": {
    "slideshow": {
     "slide_type": "slide"
    }
   },
   "source": [
    "#### Training\n",
    " - in batches\n",
    " - Compute Loss\n",
    " - Predict \n",
    " \n",
    "#### Hyperparameters\n",
    "- (Bi-directional) LSTM\n",
    "- Aantal layers\n",
    "- Drop-out\n",
    "- Batch size\n",
    "- Epochs\n",
    "- Learning rate en learning rate schema\n",
    "\n"
   ]
  },
  {
   "cell_type": "markdown",
   "metadata": {
    "slideshow": {
     "slide_type": "slide"
    }
   },
   "source": [
    "\n",
    "## Resultaten\n",
    "\n",
    "![](img/testdata.orig_trim.60_vocab.1000_directions.2_layers.2_hidden.100_dropout.0.2_learningrate.0.1_batch.32_epochs.5.png)\n",
    " \n",
    " \n",
    "\n",
    "\n",
    " \t\t\t\t> i want to calculate two / eight? \n",
    " \t\t\t\t= / 2 8 \n",
    " \t\t\t\t< / 2 8 <EOS> \n",
    "                \n",
    " ***\n",
    "\n",
    " \t\t\t\t> i want to calculate 1 times six minus seven? \n",
    " \t\t\t\t= - (* 1 6) 7 \n",
    " \t\t\t\t< - (* 1 6) 7 <EOS> "
   ]
  },
  {
   "cell_type": "markdown",
   "metadata": {
    "slideshow": {
     "slide_type": "slide"
    }
   },
   "source": [
    "# 3. Math World Problems (MWP)\n",
    "\n",
    "\n",
    "\n",
    "**Voorbeeld**: \n",
    "\n",
    "    Marie heeft zes chocolaatjes, Anton heeft er vier. Ze besluiten allebei een chocolaatje aan Anne te geven. Hoeveel chocolaatjes hebben Anton en Marie samen?         \n",
    "    \n",
    "    \n",
    "    -->         + 6 4 * 2\n",
    "    \n",
    "\n",
    "\n",
    " "
   ]
  },
  {
   "cell_type": "markdown",
   "metadata": {
    "slideshow": {
     "slide_type": "slide"
    }
   },
   "source": [
    "###  Wat maakt het oplossen van MPW moeilijk?\n",
    "\n",
    " **voorbeeld 1**<br>\n",
    " *'Wat is één plus twee?' *<br>\n",
    " Getallen: 1, 2 <br>\n",
    " Operators: + \n",
    " \n",
    "**voorbeeld 2** <br>\n",
    " *Marie heeft zes chocolaatjes, Anton heeft er vier. Ze besluiten allebei een chocolaatje aan Anne te geven. Hoeveel chocolaatjes hebben Anton en Marie samen?*<br>\n",
    " Getallen: 6, 4, 1, 1 <br>\n",
    " Operators: +,  -\n",
    " \n",
    " \n",
    " **Voorbeeld 3**: <br>\n",
    " a)  Jantje heeft vijf appels. Jantje pakt twee boeken van Willem. Hoeveel heeft hij er nu? <br>\n",
    "     *5 **-** 2* <br>\n",
    " \n",
    "\n",
    " \n",
    " b) Jantje heeft vijf appels. Jantje geeft twee boeken aan Willem. Hoeveel heeft er nu? <br>\n",
    "     *5 **+** 2*"
   ]
  },
  {
   "cell_type": "markdown",
   "metadata": {
    "slideshow": {
     "slide_type": "slide"
    }
   },
   "source": [
    "### Datasets voor MWP\n",
    "\n",
    "- Math23K – Chinese dataset with single equation word problems\n",
    "- **Dolphin18K** \n",
    "- AquA – 100K - Cross-domain multiple choice questions with rationale\n",
    "- DeepMind Mathematics Dataset – 200K - non story math word problems\n"
   ]
  },
  {
   "cell_type": "markdown",
   "metadata": {
    "slideshow": {
     "slide_type": "slide"
    }
   },
   "source": [
    "### Use case MWP\n",
    "<div>\n",
    "<img src=\"img/gpuneeded.png\" width=\"300\"/>\n",
    "</div>\n"
   ]
  },
  {
   "cell_type": "markdown",
   "metadata": {
    "slideshow": {
     "slide_type": "slide"
    }
   },
   "source": [
    "### Papers met MWP\n",
    "\n",
    "**Wang et al, 2017 - Deep Neural Solver for Math Word Problems**<br>\n",
    "Accuracy on Math23K – 60.7%\n",
    "\n",
    "**Wang et al, 2018 - Translating a Math Word Problem to a Expression Tree**<br>\n",
    "https://github.com/SumbeeLei/Math_EN<br>\n",
    "Accuracy on Math23K – 68.4%\n",
    "\n",
    "**Wang et al, 2019-  Template-Based MathWord Problem Solvers with Recursive Neural Networks** <br>\n",
    "Accuracy on Math23K – 68.4%\n"
   ]
  },
  {
   "cell_type": "markdown",
   "metadata": {
    "slideshow": {
     "slide_type": "slide"
    }
   },
   "source": [
    "### Github linkjes naar papers met code\n",
    "\n",
    "https://github.com/ShichaoSun/math_seq2tree\n",
    "\n",
    "https://github.com/MiuLab/E2EMathSolver"
   ]
  },
  {
   "cell_type": "markdown",
   "metadata": {
    "slideshow": {
     "slide_type": "slide"
    }
   },
   "source": [
    "# 4. Conclusie en bruikbaarheid\n",
    "\n",
    "## Conclusie\n",
    "\n",
    "- seq2seq vs rule based\n",
    "- Pytorch tutorial brengt je een heel eind : https://pytorch.org/tutorials/intermediate/seq2seq_translation_tutorial.html\n",
    "- Data hungry\n",
    "- Attention?\n",
    "- GPU needed \n",
    "\n"
   ]
  },
  {
   "cell_type": "markdown",
   "metadata": {
    "slideshow": {
     "slide_type": "slide"
    }
   },
   "source": [
    "## Bruikbaarheid\n",
    "\n",
    "- Conversational interface\n",
    "\n",
    "- Seq2seq vs. rule-bases\n",
    "\n"
   ]
  },
  {
   "cell_type": "markdown",
   "metadata": {
    "slideshow": {
     "slide_type": "slide"
    }
   },
   "source": [
    "- Semantic parsing\n",
    "\n",
    "*Semantic parsing is the task of converting a natural language utterance to a logical form: a machine-understandable representation of its meaning.[1] (wikipedia*\n",
    "\n",
    "<div>\n",
    "<img src=\"img/semanticparsing.png\" width=\"500\"/>\n",
    "</div>\n",
    " \n",
    "*** \n",
    " \n"
   ]
  },
  {
   "cell_type": "markdown",
   "metadata": {
    "slideshow": {
     "slide_type": "slide"
    }
   },
   "source": [
    "<div>\n",
    "<img src=\"img/semanticparsing2.png\" width=\"500\"/>\n",
    "</div>\n",
    "\n",
    "\n",
    "(https://github.com/allenai/acl2018-semantic-parsing-tutorial)\n",
    "\n",
    "- SQL to sequence \n",
    "\n",
    "\n",
    "\n",
    "- AllenNLP \n"
   ]
  },
  {
   "cell_type": "markdown",
   "metadata": {
    "slideshow": {
     "slide_type": "slide"
    }
   },
   "source": [
    "### Ideeën / vragen?"
   ]
  }
 ],
 "metadata": {
  "celltoolbar": "Slideshow",
  "kernelspec": {
   "display_name": "Python 3",
   "language": "python",
   "name": "python3"
  },
  "language_info": {
   "codemirror_mode": {
    "name": "ipython",
    "version": 3
   },
   "file_extension": ".py",
   "mimetype": "text/x-python",
   "name": "python",
   "nbconvert_exporter": "python",
   "pygments_lexer": "ipython3",
   "version": "3.6.5"
  }
 },
 "nbformat": 4,
 "nbformat_minor": 2
}
